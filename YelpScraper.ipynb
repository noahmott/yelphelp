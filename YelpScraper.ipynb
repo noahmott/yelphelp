{
  "cells": [
    {
      "cell_type": "markdown",
      "metadata": {
        "colab_type": "text",
        "id": "view-in-github"
      },
      "source": [
        "<a href=\"https://colab.research.google.com/github/noahmott/yelpscraper/blob/main/YelpScraper.ipynb\" target=\"_parent\"><img src=\"https://colab.research.google.com/assets/colab-badge.svg\" alt=\"Open In Colab\"/></a>"
      ]
    },
    {
      "cell_type": "code",
      "execution_count": 19,
      "metadata": {
        "id": "-iqf_ls2lP5X"
      },
      "outputs": [],
      "source": [
        "from bs4 import BeautifulSoup\n",
        "import requests\n",
        "import urllib\n",
        "from datetime import datetime\n",
        "import pandas as pd\n",
        "import time\n",
        "import utils.scraperagent"
      ]
    },
    {
      "cell_type": "code",
      "execution_count": 21,
      "metadata": {
        "id": "IQ5K77Ec8b_V"
      },
      "outputs": [],
      "source": [
        "\n",
        "class YelpScraper(ScraperAgent):\n",
        "\n",
        "  headers = {'User-Agent':'Mozilla/5.0 (Macintosh; Intel Mac OS X 10_11_2) AppleWebKit/601.3.9 (KHTML, like Gecko) Version/9.0.2 Safari/601.3.9'}\n",
        "  \n",
        "  def __init__(self):\n",
        "    self.scrapertool=ScraperAgent(self.headers)\n",
        "\n",
        "  def scrape_data(self, url, set_range=8, current_date_css_tag='css-chan6m', current_review_css_tag='raw__09f24__T4Ezm'):\n",
        "    urllist=self.__collect_urls(url, set_range)\n",
        "    #print(urllist)\n",
        "    dates2=[]\n",
        "    reviews=[]\n",
        "    for url in urllist:\n",
        "      time.sleep(3)\n",
        "      myurl=urllib.request.urlopen(url)\n",
        "      soup=BeautifulSoup(myurl, 'html.parser')\n",
        "      dates=soup.find_all('span', class_=current_date_css_tag)\n",
        "      review=soup.find_all('span', class_=current_review_css_tag)\n",
        "      for x in dates:\n",
        "        try:\n",
        "          datetimeobject=datetime.strptime(str(x.text), '%m/%d/%Y').date()\n",
        "          dates2.append(datetimeobject)\n",
        "        except Exception as e:\n",
        "          pass\n",
        "      for i in review[5::]:\n",
        "        reviews.append(i.text)\n",
        "    print('Dates: '+str(len(dates2)))\n",
        "    print('Reviews: '+str(len(reviews)))\n",
        "    if len(dates2)!=len(reviews):\n",
        "      print('Check your data. You may have to run this again. Reviews and Dates are uneven')\n",
        "    else:\n",
        "      print('Data is even. All good!')\n",
        "    constructeddf=pd.DataFrame()\n",
        "    constructeddf['Date']=dates2\n",
        "    constructeddf['Review']=pd.Series(reviews)\n",
        "    return constructeddf\n",
        "\n",
        "      \n",
        "    \n",
        "  def __collect_urls(self, url, set_range):   \n",
        "    print('testing connection....')\n",
        "    #print(type(self.scrapertool.testconnection(url)))\n",
        "    if self.scrapertool.testconnection(url).status_code==200:\n",
        "      print('Connection Good!')\n",
        "      x=0\n",
        "      urls=[url]\n",
        "      for page in range(set_range):\n",
        "        x+=10\n",
        "        urls.append(url+'?start='+str(x))\n",
        "      return urls\n",
        "\n"
      ]
    },
    {
      "cell_type": "code",
      "execution_count": 22,
      "metadata": {
        "id": "z5tpCtvzEEM5"
      },
      "outputs": [],
      "source": [
        "scraper=YelpScraper()"
      ]
    },
    {
      "cell_type": "code",
      "execution_count": 15,
      "metadata": {
        "colab": {
          "base_uri": "https://localhost:8080/"
        },
        "id": "tirO8ZQHEMh6",
        "outputId": "dbd39439-a422-4d17-c0d3-5dae2d5679bd"
      },
      "outputs": [
        {
          "name": "stdout",
          "output_type": "stream",
          "text": [
            "testing connection....\n",
            "Connection Good!\n",
            "Dates: 95\n",
            "Reviews: 98\n",
            "Check your data. You may have to run this again. Reviews and Dates are uneven\n"
          ]
        }
      ],
      "source": [
        "fulldf=scraper.scrape_data(url='https://www.yelp.com/biz/social-house-orlando-orlando')"
      ]
    },
    {
      "cell_type": "code",
      "execution_count": 171,
      "metadata": {
        "colab": {
          "base_uri": "https://localhost:8080/",
          "height": 1365
        },
        "id": "N2tsffxUJNsV",
        "outputId": "582dce55-b61c-4caf-f5ec-922ae314e236"
      },
      "outputs": [
        {
          "data": {
            "text/html": [
              "\n",
              "  <div id=\"df-eaf0e38f-8bb5-4fc2-bb17-6041cce8fb1c\">\n",
              "    <div class=\"colab-df-container\">\n",
              "      <div>\n",
              "<style scoped>\n",
              "    .dataframe tbody tr th:only-of-type {\n",
              "        vertical-align: middle;\n",
              "    }\n",
              "\n",
              "    .dataframe tbody tr th {\n",
              "        vertical-align: top;\n",
              "    }\n",
              "\n",
              "    .dataframe thead th {\n",
              "        text-align: right;\n",
              "    }\n",
              "</style>\n",
              "<table border=\"1\" class=\"dataframe\">\n",
              "  <thead>\n",
              "    <tr style=\"text-align: right;\">\n",
              "      <th></th>\n",
              "      <th>Date</th>\n",
              "      <th>Review</th>\n",
              "    </tr>\n",
              "  </thead>\n",
              "  <tbody>\n",
              "    <tr>\n",
              "      <th>0</th>\n",
              "      <td>2022-11-03</td>\n",
              "      <td>Soooooo, our second visit to this place within...</td>\n",
              "    </tr>\n",
              "    <tr>\n",
              "      <th>1</th>\n",
              "      <td>2022-09-27</td>\n",
              "      <td>Very racist. Don't go if you aren't white.Empl...</td>\n",
              "    </tr>\n",
              "    <tr>\n",
              "      <th>2</th>\n",
              "      <td>2022-02-04</td>\n",
              "      <td>My friend and I tried out Social House for the...</td>\n",
              "    </tr>\n",
              "    <tr>\n",
              "      <th>3</th>\n",
              "      <td>2022-08-06</td>\n",
              "      <td>Can I express how amazing the service here is!...</td>\n",
              "    </tr>\n",
              "    <tr>\n",
              "      <th>4</th>\n",
              "      <td>2022-09-24</td>\n",
              "      <td>Lemme make this quick, good place to DRINK! No...</td>\n",
              "    </tr>\n",
              "    <tr>\n",
              "      <th>...</th>\n",
              "      <td>...</td>\n",
              "      <td>...</td>\n",
              "    </tr>\n",
              "    <tr>\n",
              "      <th>90</th>\n",
              "      <td>2021-04-20</td>\n",
              "      <td>If I could rate this place a 0,.......I would....</td>\n",
              "    </tr>\n",
              "    <tr>\n",
              "      <th>91</th>\n",
              "      <td>2020-04-16</td>\n",
              "      <td>If I could Rui's place 0 I would. It's horribl...</td>\n",
              "    </tr>\n",
              "    <tr>\n",
              "      <th>92</th>\n",
              "      <td>2016-03-11</td>\n",
              "      <td>As a long time customer of the old establishme...</td>\n",
              "    </tr>\n",
              "    <tr>\n",
              "      <th>93</th>\n",
              "      <td>2016-03-16</td>\n",
              "      <td>Such a let down.I have been here twice for hap...</td>\n",
              "    </tr>\n",
              "    <tr>\n",
              "      <th>94</th>\n",
              "      <td>2016-01-19</td>\n",
              "      <td>Stopped in today to check this place out...Cou...</td>\n",
              "    </tr>\n",
              "  </tbody>\n",
              "</table>\n",
              "<p>95 rows × 2 columns</p>\n",
              "</div>\n",
              "      <button class=\"colab-df-convert\" onclick=\"convertToInteractive('df-eaf0e38f-8bb5-4fc2-bb17-6041cce8fb1c')\"\n",
              "              title=\"Convert this dataframe to an interactive table.\"\n",
              "              style=\"display:none;\">\n",
              "        \n",
              "  <svg xmlns=\"http://www.w3.org/2000/svg\" height=\"24px\"viewBox=\"0 0 24 24\"\n",
              "       width=\"24px\">\n",
              "    <path d=\"M0 0h24v24H0V0z\" fill=\"none\"/>\n",
              "    <path d=\"M18.56 5.44l.94 2.06.94-2.06 2.06-.94-2.06-.94-.94-2.06-.94 2.06-2.06.94zm-11 1L8.5 8.5l.94-2.06 2.06-.94-2.06-.94L8.5 2.5l-.94 2.06-2.06.94zm10 10l.94 2.06.94-2.06 2.06-.94-2.06-.94-.94-2.06-.94 2.06-2.06.94z\"/><path d=\"M17.41 7.96l-1.37-1.37c-.4-.4-.92-.59-1.43-.59-.52 0-1.04.2-1.43.59L10.3 9.45l-7.72 7.72c-.78.78-.78 2.05 0 2.83L4 21.41c.39.39.9.59 1.41.59.51 0 1.02-.2 1.41-.59l7.78-7.78 2.81-2.81c.8-.78.8-2.07 0-2.86zM5.41 20L4 18.59l7.72-7.72 1.47 1.35L5.41 20z\"/>\n",
              "  </svg>\n",
              "      </button>\n",
              "      \n",
              "  <style>\n",
              "    .colab-df-container {\n",
              "      display:flex;\n",
              "      flex-wrap:wrap;\n",
              "      gap: 12px;\n",
              "    }\n",
              "\n",
              "    .colab-df-convert {\n",
              "      background-color: #E8F0FE;\n",
              "      border: none;\n",
              "      border-radius: 50%;\n",
              "      cursor: pointer;\n",
              "      display: none;\n",
              "      fill: #1967D2;\n",
              "      height: 32px;\n",
              "      padding: 0 0 0 0;\n",
              "      width: 32px;\n",
              "    }\n",
              "\n",
              "    .colab-df-convert:hover {\n",
              "      background-color: #E2EBFA;\n",
              "      box-shadow: 0px 1px 2px rgba(60, 64, 67, 0.3), 0px 1px 3px 1px rgba(60, 64, 67, 0.15);\n",
              "      fill: #174EA6;\n",
              "    }\n",
              "\n",
              "    [theme=dark] .colab-df-convert {\n",
              "      background-color: #3B4455;\n",
              "      fill: #D2E3FC;\n",
              "    }\n",
              "\n",
              "    [theme=dark] .colab-df-convert:hover {\n",
              "      background-color: #434B5C;\n",
              "      box-shadow: 0px 1px 3px 1px rgba(0, 0, 0, 0.15);\n",
              "      filter: drop-shadow(0px 1px 2px rgba(0, 0, 0, 0.3));\n",
              "      fill: #FFFFFF;\n",
              "    }\n",
              "  </style>\n",
              "\n",
              "      <script>\n",
              "        const buttonEl =\n",
              "          document.querySelector('#df-eaf0e38f-8bb5-4fc2-bb17-6041cce8fb1c button.colab-df-convert');\n",
              "        buttonEl.style.display =\n",
              "          google.colab.kernel.accessAllowed ? 'block' : 'none';\n",
              "\n",
              "        async function convertToInteractive(key) {\n",
              "          const element = document.querySelector('#df-eaf0e38f-8bb5-4fc2-bb17-6041cce8fb1c');\n",
              "          const dataTable =\n",
              "            await google.colab.kernel.invokeFunction('convertToInteractive',\n",
              "                                                     [key], {});\n",
              "          if (!dataTable) return;\n",
              "\n",
              "          const docLinkHtml = 'Like what you see? Visit the ' +\n",
              "            '<a target=\"_blank\" href=https://colab.research.google.com/notebooks/data_table.ipynb>data table notebook</a>'\n",
              "            + ' to learn more about interactive tables.';\n",
              "          element.innerHTML = '';\n",
              "          dataTable['output_type'] = 'display_data';\n",
              "          await google.colab.output.renderOutput(dataTable, element);\n",
              "          const docLink = document.createElement('div');\n",
              "          docLink.innerHTML = docLinkHtml;\n",
              "          element.appendChild(docLink);\n",
              "        }\n",
              "      </script>\n",
              "    </div>\n",
              "  </div>\n",
              "  "
            ],
            "text/plain": [
              "          Date                                             Review\n",
              "0   2022-11-03  Soooooo, our second visit to this place within...\n",
              "1   2022-09-27  Very racist. Don't go if you aren't white.Empl...\n",
              "2   2022-02-04  My friend and I tried out Social House for the...\n",
              "3   2022-08-06  Can I express how amazing the service here is!...\n",
              "4   2022-09-24  Lemme make this quick, good place to DRINK! No...\n",
              "..         ...                                                ...\n",
              "90  2021-04-20  If I could rate this place a 0,.......I would....\n",
              "91  2020-04-16  If I could Rui's place 0 I would. It's horribl...\n",
              "92  2016-03-11  As a long time customer of the old establishme...\n",
              "93  2016-03-16  Such a let down.I have been here twice for hap...\n",
              "94  2016-01-19  Stopped in today to check this place out...Cou...\n",
              "\n",
              "[95 rows x 2 columns]"
            ]
          },
          "execution_count": 171,
          "metadata": {},
          "output_type": "execute_result"
        }
      ],
      "source": [
        "fulldf"
      ]
    }
  ],
  "metadata": {
    "colab": {
      "authorship_tag": "ABX9TyPEykzomCJa/nNXOnHLrkl5",
      "include_colab_link": true,
      "provenance": []
    },
    "kernelspec": {
      "display_name": "Python 3",
      "language": "python",
      "name": "python3"
    },
    "language_info": {
      "codemirror_mode": {
        "name": "ipython",
        "version": 3
      },
      "file_extension": ".py",
      "mimetype": "text/x-python",
      "name": "python",
      "nbconvert_exporter": "python",
      "pygments_lexer": "ipython3",
      "version": "3.9.13"
    },
    "vscode": {
      "interpreter": {
        "hash": "e80353a01ffe70e7afdf4fdd8e60812545e6f2b2452c7ac4f577f1977ab046bb"
      }
    }
  },
  "nbformat": 4,
  "nbformat_minor": 0
}
