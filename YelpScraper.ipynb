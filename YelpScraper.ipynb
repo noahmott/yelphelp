{
  "cells": [
    {
      "cell_type": "markdown",
      "metadata": {
        "colab_type": "text",
        "id": "view-in-github"
      },
      "source": [
        "<a href=\"https://colab.research.google.com/github/noahmott/yelpscraper/blob/main/YelpScraper.ipynb\" target=\"_parent\"><img src=\"https://colab.research.google.com/assets/colab-badge.svg\" alt=\"Open In Colab\"/></a>"
      ]
    },
    {
      "cell_type": "code",
      "execution_count": 38,
      "metadata": {
        "id": "-iqf_ls2lP5X"
      },
      "outputs": [],
      "source": [
        "from bs4 import BeautifulSoup\n",
        "import requests\n",
        "import urllib\n",
        "from datetime import datetime\n",
        "import pandas as pd\n",
        "import time\n",
        "import re as re\n",
        "from utils.scraperagent import ScraperAgent"
      ]
    },
    {
      "cell_type": "code",
      "execution_count": 44,
      "metadata": {
        "id": "IQ5K77Ec8b_V"
      },
      "outputs": [],
      "source": [
        "\n",
        "class YelpScraper(ScraperAgent):\n",
        "\n",
        "  headers = {'User-Agent':'Mozilla/5.0 (Macintosh; Intel Mac OS X 10_11_2) AppleWebKit/601.3.9 (KHTML, like Gecko) Version/9.0.2 Safari/601.3.9'}\n",
        "  \n",
        "  def __init__(self):\n",
        "    self.scrapertool=ScraperAgent(self.headers)\n",
        "\n",
        "  def scrape_data(self, url, set_range=8, current_date_css_tag='css-chan6m', current_review_css_tag='raw__09f24__T4Ezm'):\n",
        "    urllist=self.__collect_urls(url, set_range)\n",
        "    #print(urllist)\n",
        "    dates2=[]\n",
        "    reviews=[]\n",
        "    for url in urllist:\n",
        "      #this sleep timer is so the page loads fully on each iteration. js sometimes loads slowly\n",
        "      time.sleep(4)\n",
        "      myurl=urllib.request.urlopen(url)\n",
        "      soup=BeautifulSoup(myurl, 'html.parser')\n",
        "      dates=soup.find_all('span', class_=current_date_css_tag)\n",
        "      review=soup.find_all('span', class_=current_review_css_tag)\n",
        "      for x in dates:\n",
        "        try:\n",
        "          datetimeobject=datetime.strptime(str(x.text), '%m/%d/%Y').date()\n",
        "          dates2.append(datetimeobject)\n",
        "        except Exception as e:\n",
        "          pass\n",
        "      for i in review[5::]:\n",
        "        #This pattern match is to ignore specific text that has the same tag but not a review.\n",
        "        if re.search(\"miles away from|start your review\", i.text.lower()):\n",
        "          print('found match and ignored')\n",
        "          pass\n",
        "        else:\n",
        "          reviews.append(i.text)\n",
        "    print('Dates: '+str(len(dates2)))\n",
        "    print('Reviews: '+str(len(reviews)))\n",
        "    if len(dates2)!=len(reviews):\n",
        "      print('Check your data. You may have to run this again. Reviews and Dates are uneven')\n",
        "    else:\n",
        "      print('Data is even. All good!')\n",
        "    constructeddf=pd.DataFrame()\n",
        "    constructeddf['Date']=dates2\n",
        "    constructeddf['Review']=pd.Series(reviews)\n",
        "    return constructeddf\n",
        "\n",
        "      \n",
        "    \n",
        "  def __collect_urls(self, url, set_range):   \n",
        "    print('testing connection....')\n",
        "    #print(type(self.scrapertool.testconnection(url)))\n",
        "    if self.scrapertool.testconnection(url).status_code==200:\n",
        "      print('Connection Good!')\n",
        "      x=0\n",
        "      urls=[url]\n",
        "      for page in range(set_range):\n",
        "        x+=10\n",
        "        urls.append(url+'?start='+str(x))\n",
        "      return urls\n",
        "\n"
      ]
    },
    {
      "cell_type": "code",
      "execution_count": 45,
      "metadata": {
        "id": "z5tpCtvzEEM5"
      },
      "outputs": [],
      "source": [
        "scraper=YelpScraper()"
      ]
    },
    {
      "cell_type": "code",
      "execution_count": 46,
      "metadata": {
        "colab": {
          "base_uri": "https://localhost:8080/"
        },
        "id": "tirO8ZQHEMh6",
        "outputId": "dbd39439-a422-4d17-c0d3-5dae2d5679bd"
      },
      "outputs": [
        {
          "name": "stdout",
          "output_type": "stream",
          "text": [
            "testing connection....\n",
            "Connection Good!\n",
            "found match and ignored\n",
            "found match and ignored\n",
            "found match and ignored\n",
            "found match and ignored\n",
            "found match and ignored\n",
            "Dates: 95\n",
            "Reviews: 95\n",
            "Data is even. All good!\n"
          ]
        }
      ],
      "source": [
        "fulldf=scraper.scrape_data(url='https://www.yelp.com/biz/social-house-orlando-orlando')"
      ]
    },
    {
      "cell_type": "code",
      "execution_count": 47,
      "metadata": {
        "colab": {
          "base_uri": "https://localhost:8080/",
          "height": 1365
        },
        "id": "N2tsffxUJNsV",
        "outputId": "582dce55-b61c-4caf-f5ec-922ae314e236"
      },
      "outputs": [
        {
          "data": {
            "text/html": [
              "<div>\n",
              "<style scoped>\n",
              "    .dataframe tbody tr th:only-of-type {\n",
              "        vertical-align: middle;\n",
              "    }\n",
              "\n",
              "    .dataframe tbody tr th {\n",
              "        vertical-align: top;\n",
              "    }\n",
              "\n",
              "    .dataframe thead th {\n",
              "        text-align: right;\n",
              "    }\n",
              "</style>\n",
              "<table border=\"1\" class=\"dataframe\">\n",
              "  <thead>\n",
              "    <tr style=\"text-align: right;\">\n",
              "      <th></th>\n",
              "      <th>Date</th>\n",
              "      <th>Review</th>\n",
              "    </tr>\n",
              "  </thead>\n",
              "  <tbody>\n",
              "    <tr>\n",
              "      <th>0</th>\n",
              "      <td>2022-11-03</td>\n",
              "      <td>Soooooo, our second visit to this place within...</td>\n",
              "    </tr>\n",
              "    <tr>\n",
              "      <th>1</th>\n",
              "      <td>2022-09-27</td>\n",
              "      <td>Very racist. Don't go if you aren't white.Empl...</td>\n",
              "    </tr>\n",
              "    <tr>\n",
              "      <th>2</th>\n",
              "      <td>2022-02-04</td>\n",
              "      <td>My friend and I tried out Social House for the...</td>\n",
              "    </tr>\n",
              "    <tr>\n",
              "      <th>3</th>\n",
              "      <td>2022-08-06</td>\n",
              "      <td>Can I express how amazing the service here is!...</td>\n",
              "    </tr>\n",
              "    <tr>\n",
              "      <th>4</th>\n",
              "      <td>2022-09-24</td>\n",
              "      <td>Lemme make this quick, good place to DRINK! No...</td>\n",
              "    </tr>\n",
              "    <tr>\n",
              "      <th>...</th>\n",
              "      <td>...</td>\n",
              "      <td>...</td>\n",
              "    </tr>\n",
              "    <tr>\n",
              "      <th>90</th>\n",
              "      <td>2021-04-20</td>\n",
              "      <td>If I could rate this place a 0,.......I would....</td>\n",
              "    </tr>\n",
              "    <tr>\n",
              "      <th>91</th>\n",
              "      <td>2020-04-16</td>\n",
              "      <td>If I could Rui's place 0 I would. It's horribl...</td>\n",
              "    </tr>\n",
              "    <tr>\n",
              "      <th>92</th>\n",
              "      <td>2016-03-11</td>\n",
              "      <td>As a long time customer of the old establishme...</td>\n",
              "    </tr>\n",
              "    <tr>\n",
              "      <th>93</th>\n",
              "      <td>2016-03-16</td>\n",
              "      <td>Such a let down.I have been here twice for hap...</td>\n",
              "    </tr>\n",
              "    <tr>\n",
              "      <th>94</th>\n",
              "      <td>2016-01-19</td>\n",
              "      <td>Stopped in today to check this place out...Cou...</td>\n",
              "    </tr>\n",
              "  </tbody>\n",
              "</table>\n",
              "<p>95 rows × 2 columns</p>\n",
              "</div>"
            ],
            "text/plain": [
              "          Date                                             Review\n",
              "0   2022-11-03  Soooooo, our second visit to this place within...\n",
              "1   2022-09-27  Very racist. Don't go if you aren't white.Empl...\n",
              "2   2022-02-04  My friend and I tried out Social House for the...\n",
              "3   2022-08-06  Can I express how amazing the service here is!...\n",
              "4   2022-09-24  Lemme make this quick, good place to DRINK! No...\n",
              "..         ...                                                ...\n",
              "90  2021-04-20  If I could rate this place a 0,.......I would....\n",
              "91  2020-04-16  If I could Rui's place 0 I would. It's horribl...\n",
              "92  2016-03-11  As a long time customer of the old establishme...\n",
              "93  2016-03-16  Such a let down.I have been here twice for hap...\n",
              "94  2016-01-19  Stopped in today to check this place out...Cou...\n",
              "\n",
              "[95 rows x 2 columns]"
            ]
          },
          "execution_count": 47,
          "metadata": {},
          "output_type": "execute_result"
        }
      ],
      "source": [
        "fulldf"
      ]
    },
    {
      "cell_type": "code",
      "execution_count": 33,
      "metadata": {},
      "outputs": [],
      "source": [
        "fulldf.to_csv('myfile.csv')"
      ]
    }
  ],
  "metadata": {
    "colab": {
      "authorship_tag": "ABX9TyPEykzomCJa/nNXOnHLrkl5",
      "include_colab_link": true,
      "provenance": []
    },
    "kernelspec": {
      "display_name": "Python 3",
      "language": "python",
      "name": "python3"
    },
    "language_info": {
      "codemirror_mode": {
        "name": "ipython",
        "version": 3
      },
      "file_extension": ".py",
      "mimetype": "text/x-python",
      "name": "python",
      "nbconvert_exporter": "python",
      "pygments_lexer": "ipython3",
      "version": "3.9.13"
    },
    "vscode": {
      "interpreter": {
        "hash": "e80353a01ffe70e7afdf4fdd8e60812545e6f2b2452c7ac4f577f1977ab046bb"
      }
    }
  },
  "nbformat": 4,
  "nbformat_minor": 0
}
