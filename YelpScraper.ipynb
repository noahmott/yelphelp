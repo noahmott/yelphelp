{
  "cells": [
    {
      "cell_type": "markdown",
      "metadata": {
        "colab_type": "text",
        "id": "view-in-github"
      },
      "source": [
        "<a href=\"https://colab.research.google.com/github/noahmott/yelpscraper/blob/main/YelpScraper.ipynb\" target=\"_parent\"><img src=\"https://colab.research.google.com/assets/colab-badge.svg\" alt=\"Open In Colab\"/></a>"
      ]
    },
    {
      "cell_type": "code",
      "execution_count": 7,
      "metadata": {
        "id": "-iqf_ls2lP5X"
      },
      "outputs": [
        {
          "ename": "ModuleNotFoundError",
          "evalue": "No module named 'yelphelp'",
          "output_type": "error",
          "traceback": [
            "\u001b[1;31m---------------------------------------------------------------------------\u001b[0m",
            "\u001b[1;31mModuleNotFoundError\u001b[0m                       Traceback (most recent call last)",
            "\u001b[1;32m<ipython-input-7-63a3031e2aa9>\u001b[0m in \u001b[0;36m<module>\u001b[1;34m\u001b[0m\n\u001b[1;32m----> 1\u001b[1;33m \u001b[1;32mfrom\u001b[0m \u001b[0myelphelp\u001b[0m \u001b[1;32mimport\u001b[0m \u001b[0mYelpHelp\u001b[0m\u001b[1;33m\u001b[0m\u001b[1;33m\u001b[0m\u001b[0m\n\u001b[0m",
            "\u001b[1;31mModuleNotFoundError\u001b[0m: No module named 'yelphelp'"
          ]
        }
      ],
      "source": [
        "from yelphelp import YelpHelp"
      ]
    },
    {
      "cell_type": "code",
      "execution_count": null,
      "metadata": {
        "id": "IQ5K77Ec8b_V"
      },
      "outputs": [],
      "source": [
        "\n",
        "class YelpHelp(ScraperAgent):\n",
        "\n",
        "  headers = {'User-Agent':'Mozilla/5.0 (Macintosh; Intel Mac OS X 10_11_2) AppleWebKit/601.3.9 (KHTML, like Gecko) Version/9.0.2 Safari/601.3.9'}\n",
        "  \n",
        "  def __init__(self):\n",
        "    self.scrapertool=ScraperAgent(self.headers)\n",
        "\n",
        "  def scrape_data(self, url, set_range=8, current_date_css_tag='css-chan6m', current_review_css_tag='raw__09f24__T4Ezm'):\n",
        "    urllist=self.__collect_urls(url, set_range)\n",
        "    #print(urllist)\n",
        "    dates2=[]\n",
        "    reviews=[]\n",
        "    for url in urllist:\n",
        "      #this sleep timer is so the page loads fully on each iteration. js sometimes loads slowly\n",
        "      time.sleep(4)\n",
        "      myurl=urllib.request.urlopen(url)\n",
        "      soup=BeautifulSoup(myurl, 'html.parser')\n",
        "      dates=soup.find_all('span', class_=current_date_css_tag)\n",
        "      review=soup.find_all('span', class_=current_review_css_tag)\n",
        "      for x in dates:\n",
        "        try:\n",
        "          datetimeobject=datetime.strptime(str(x.text), '%m/%d/%Y').date()\n",
        "          dates2.append(datetimeobject)\n",
        "        except Exception as e:\n",
        "          pass\n",
        "      for i in review[5::]:\n",
        "        #This pattern match is to ignore specific text that has the same tag but not a review.\n",
        "        if re.search(\"miles away from|start your review\", i.text.lower()):\n",
        "          print('found match and ignored')\n",
        "          pass\n",
        "        else:\n",
        "          reviews.append(i.text)\n",
        "    print('Dates: '+str(len(dates2)))\n",
        "    print('Reviews: '+str(len(reviews)))\n",
        "    if len(dates2)!=len(reviews):\n",
        "      print('Check your data. You may have to run this again. Reviews and Dates are uneven')\n",
        "    else:\n",
        "      print('Data is even. All good!')\n",
        "    constructeddf=pd.DataFrame()\n",
        "    constructeddf['Date']=dates2\n",
        "    constructeddf['Review']=pd.Series(reviews)\n",
        "    return constructeddf\n",
        "\n",
        "      \n",
        "    \n",
        "  def __collect_urls(self, url, set_range):   \n",
        "    print('testing connection....')\n",
        "    #print(type(self.scrapertool.testconnection(url)))\n",
        "    if self.scrapertool.testconnection(url).status_code==200:\n",
        "      print('Connection Good!')\n",
        "      x=0\n",
        "      urls=[url]\n",
        "      for page in range(set_range):\n",
        "        x+=10\n",
        "        urls.append(url+'?start='+str(x))\n",
        "      return urls\n",
        "\n"
      ]
    },
    {
      "cell_type": "code",
      "execution_count": null,
      "metadata": {
        "id": "z5tpCtvzEEM5"
      },
      "outputs": [],
      "source": [
        "scraper=YelpScraper()"
      ]
    },
    {
      "cell_type": "code",
      "execution_count": null,
      "metadata": {
        "colab": {
          "base_uri": "https://localhost:8080/"
        },
        "id": "tirO8ZQHEMh6",
        "outputId": "dbd39439-a422-4d17-c0d3-5dae2d5679bd"
      },
      "outputs": [],
      "source": [
        "fulldf=scraper.scrape_data(url='https://www.yelp.com/biz/social-house-orlando-orlando')"
      ]
    },
    {
      "cell_type": "code",
      "execution_count": null,
      "metadata": {
        "colab": {
          "base_uri": "https://localhost:8080/",
          "height": 1365
        },
        "id": "N2tsffxUJNsV",
        "outputId": "582dce55-b61c-4caf-f5ec-922ae314e236"
      },
      "outputs": [],
      "source": [
        "fulldf"
      ]
    },
    {
      "cell_type": "code",
      "execution_count": null,
      "metadata": {},
      "outputs": [],
      "source": [
        "fulldf.to_csv('myfile.csv')"
      ]
    }
  ],
  "metadata": {
    "colab": {
      "authorship_tag": "ABX9TyPEykzomCJa/nNXOnHLrkl5",
      "include_colab_link": true,
      "provenance": []
    },
    "kernelspec": {
      "display_name": "Python 3",
      "language": "python",
      "name": "python3"
    },
    "language_info": {
      "codemirror_mode": {
        "name": "ipython",
        "version": 3
      },
      "file_extension": ".py",
      "mimetype": "text/x-python",
      "name": "python",
      "nbconvert_exporter": "python",
      "pygments_lexer": "ipython3",
      "version": "3.9.13"
    },
    "vscode": {
      "interpreter": {
        "hash": "e80353a01ffe70e7afdf4fdd8e60812545e6f2b2452c7ac4f577f1977ab046bb"
      }
    }
  },
  "nbformat": 4,
  "nbformat_minor": 0
}
